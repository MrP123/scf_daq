{
 "cells": [
  {
   "cell_type": "markdown",
   "metadata": {},
   "source": [
    "# Experimental Plan Calculations"
   ]
  },
  {
   "cell_type": "code",
   "execution_count": 45,
   "metadata": {},
   "outputs": [],
   "source": [
    "import numpy as np\n",
    "import matplotlib.pyplot as plt"
   ]
  },
  {
   "cell_type": "code",
   "execution_count": 53,
   "metadata": {},
   "outputs": [
    {
     "name": "stdout",
     "output_type": "stream",
     "text": [
      "Height h: 42.5 mm\n",
      "Mass m for min. height of 300 mm: 0.34 kg\n",
      "Velocity v at impact: 0.91 m/s\n"
     ]
    }
   ],
   "source": [
    "g = 9.81 #in kg m s^{-2}\n",
    "m_impactor = 2.4 #in kg\n",
    "E = 1.0 #in J\n",
    "\n",
    "h = E / (m_impactor * g)\n",
    "h_mm = h * 1e3\n",
    "\n",
    "print(f\"Height h: {h_mm:.1f} mm\")\n",
    "\n",
    "m_for_min_height = E / (0.3 * g) #min height of 300 mm according to ASTM D7136\n",
    "print(f\"Mass m for min. height of 300 mm: {m_for_min_height:.2f} kg\")\n",
    "\n",
    "v = np.sqrt(2*g*h)\n",
    "print(f\"Velocity v at impact: {v:.2f} m/s\")"
   ]
  }
 ],
 "metadata": {
  "kernelspec": {
   "display_name": ".venv",
   "language": "python",
   "name": "python3"
  },
  "language_info": {
   "codemirror_mode": {
    "name": "ipython",
    "version": 3
   },
   "file_extension": ".py",
   "mimetype": "text/x-python",
   "name": "python",
   "nbconvert_exporter": "python",
   "pygments_lexer": "ipython3",
   "version": "3.13.2"
  }
 },
 "nbformat": 4,
 "nbformat_minor": 2
}
