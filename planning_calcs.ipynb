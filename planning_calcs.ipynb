{
 "cells": [
  {
   "cell_type": "markdown",
   "metadata": {},
   "source": [
    "# Experimental Plan Calculations"
   ]
  },
  {
   "cell_type": "code",
   "execution_count": 8,
   "metadata": {},
   "outputs": [],
   "source": [
    "import numpy as np\n",
    "import matplotlib.pyplot as plt"
   ]
  },
  {
   "cell_type": "code",
   "execution_count": 9,
   "metadata": {},
   "outputs": [],
   "source": [
    "def height_from_energy(E, m):\n",
    "    g = 9.81 #in kg m s^{-2}\n",
    "    return E / (m * g)\n",
    "\n",
    "def energy_from_height(h, m):\n",
    "    g = 9.81 #in kg m s^{-2}\n",
    "    return m * g * h\n",
    "\n",
    "def mass_for_height(E, h=0.300):\n",
    "    #min height of 300 mm according to ASTM D7136\n",
    "    g = 9.81 #in kg m s^{-2}\n",
    "    return E / (h * g)\n",
    "\n",
    "def vel_from_energy(E, m):\n",
    "    g = 9.81 #in kg m s^{-2}\n",
    "    h = height_from_energy(E, m)\n",
    "    return np.sqrt(2*g*h)"
   ]
  },
  {
   "cell_type": "code",
   "execution_count": 10,
   "metadata": {},
   "outputs": [
    {
     "name": "stdout",
     "output_type": "stream",
     "text": [
      "Height h: 52.1 mm\n",
      "Mass m for min. height of 300 mm: 0.51 kg\n",
      "Velocity v at impact: 1.01 m/s\n",
      "Energy E @ 60mm: 1.73 J\n"
     ]
    }
   ],
   "source": [
    "m_impactor = 2.934 #in kg #measured with scale on 2025-04-07\n",
    "E = 1.5 #in J\n",
    "\n",
    "h = height_from_energy(E, m_impactor)\n",
    "print(f\"Height h: {h*1e3:.1f} mm\")\n",
    "\n",
    "m_for_min_height = mass_for_height(E)\n",
    "print(f\"Mass m for min. height of 300 mm: {m_for_min_height:.2f} kg\")\n",
    "\n",
    "v = vel_from_energy(E, m_impactor)\n",
    "print(f\"Velocity v at impact: {v:.2f} m/s\")\n",
    "\n",
    "E_from_60mm = energy_from_height(60e-3, m_impactor)\n",
    "print(f\"Energy E @ 60mm: {E_from_60mm:.2f} J\")"
   ]
  }
 ],
 "metadata": {
  "kernelspec": {
   "display_name": ".venv",
   "language": "python",
   "name": "python3"
  },
  "language_info": {
   "codemirror_mode": {
    "name": "ipython",
    "version": 3
   },
   "file_extension": ".py",
   "mimetype": "text/x-python",
   "name": "python",
   "nbconvert_exporter": "python",
   "pygments_lexer": "ipython3",
   "version": "3.13.2"
  }
 },
 "nbformat": 4,
 "nbformat_minor": 2
}
