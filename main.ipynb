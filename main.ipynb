{
 "cells": [
  {
   "cell_type": "markdown",
   "metadata": {},
   "source": [
    "# NI DAQ for SCF measurement"
   ]
  },
  {
   "cell_type": "code",
   "execution_count": 1,
   "metadata": {},
   "outputs": [],
   "source": [
    "import LDAQ #custom version of LDAQ --> should be installed properly via pip\n",
    "import numpy as np\n",
    "import numpy.typing as npt\n",
    "import matplotlib.pyplot as plt"
   ]
  },
  {
   "cell_type": "code",
   "execution_count": null,
   "metadata": {},
   "outputs": [],
   "source": [
    "# Simulation was used before first test structure was created\n",
    "\n",
    "#def simulate_signal(t, f1, f2):\n",
    "#    \"\"\"\n",
    "#    first argument must be time.\n",
    "#    If multi_processing is True, then the function must be pickable and\n",
    "#    all libraries must be imported inside the function.\n",
    "#    \"\"\"\n",
    "#    #import numpy as np\n",
    "#    sig1 = np.sin(2*np.pi*f1*t) + np.random.rand(len(t))*0.3\n",
    "#    sig2 = np.cos(2*np.pi*f2*t) + np.random.rand(len(t))*0.3\n",
    "#    return np.array([sig1, sig2]).T\n",
    "#\n",
    "#fs = 1_000_000\n",
    "#acq_simulated = LDAQ.simulator.SimulatedAcquisition(acquisition_name='sim')\n",
    "#acq_simulated.set_simulated_data(simulate_signal, channel_names=[\"ch1\", \"ch2\"], sample_rate=fs, args=(84, 120)) # use function\n",
    "#acq_simulated.run_acquisition(1.0)"
   ]
  },
  {
   "cell_type": "markdown",
   "metadata": {},
   "source": [
    "## Set up NI Task with proper device"
   ]
  },
  {
   "cell_type": "code",
   "execution_count": null,
   "metadata": {},
   "outputs": [
    {
     "data": {
      "text/plain": [
       "Task name: ni_input_task\n",
       "Connected devices:\n",
       "\t(0) - cDAQ1\n",
       "\t(1) - cDAQ1Mod3\n",
       "\t(2) - cDAQ1Mod4\n",
       "\t(3) - SimDev1\n",
       "Channels: []"
      ]
     },
     "execution_count": 2,
     "metadata": {},
     "output_type": "execute_result"
    }
   ],
   "source": [
    "input_task_name = \"ni_input_task\"\n",
    "acquisition_name = input_task_name + \"_acq\"\n",
    "fs = 1_000_000\n",
    "\n",
    "ni_task = LDAQ.national_instruments.NITask(input_task_name, sample_rate=fs)\n",
    "ni_task"
   ]
  },
  {
   "cell_type": "code",
   "execution_count": 3,
   "metadata": {},
   "outputs": [],
   "source": [
    "device_name = \"cDAQ1Mod3\"\n",
    "device_id = ni_task.device_list.index(device_name)"
   ]
  },
  {
   "cell_type": "code",
   "execution_count": null,
   "metadata": {},
   "outputs": [
    {
     "data": {
      "text/plain": [
       "Task name: ni_input_task\n",
       "Connected devices:\n",
       "\t(0) - cDAQ1\n",
       "\t(1) - cDAQ1Mod3\n",
       "\t(2) - cDAQ1Mod4\n",
       "\t(3) - SimDev1\n",
       "Channels: ['ch1', 'ch2', 'ch3', 'ch4']"
      ]
     },
     "execution_count": 4,
     "metadata": {},
     "output_type": "execute_result"
    }
   ],
   "source": [
    "num_channels = 4\n",
    "\n",
    "for i in range(0, num_channels):\n",
    "    ni_task.add_channel(channel_name=f\"ch{i+1}\", device_ind=device_id, channel_ind=i, scale=1.0, units=\"V\", min_val=-10.0, max_val=10.0)\n",
    "\n",
    "ni_task"
   ]
  },
  {
   "cell_type": "code",
   "execution_count": 5,
   "metadata": {},
   "outputs": [
    {
     "data": {
      "text/plain": [
       "Acquisition name:     ni_input_task_acq\n",
       "Number of channels:   0\n",
       "Data channels:        []\n",
       "Video channels:       []\n",
       "Sample rate:          1000000 Hz\n",
       "Continuous mode:      False\n",
       "Standalone:           True"
      ]
     },
     "execution_count": 5,
     "metadata": {},
     "output_type": "execute_result"
    }
   ],
   "source": [
    "acq_ni = LDAQ.national_instruments.NIAcquisition(task_name=ni_task, acquisition_name=acquisition_name)\n",
    "acq_ni"
   ]
  },
  {
   "cell_type": "markdown",
   "metadata": {},
   "source": [
    "## Set up visualization from LDAQ\n",
    "Sometimes has to be run a second time after running ldaq to be set up properly. At the moment not yet sure why"
   ]
  },
  {
   "cell_type": "code",
   "execution_count": null,
   "metadata": {},
   "outputs": [],
   "source": [
    "vis = LDAQ.Visualization(refresh_rate=100)\n",
    "\n",
    "for i in range(0, num_channels):\n",
    "    vis.add_lines((i,0), source=acquisition_name, channels=i, t_span=2.0)"
   ]
  },
  {
   "cell_type": "markdown",
   "metadata": {},
   "source": [
    "## Creat Core object with acquisition & visualization"
   ]
  },
  {
   "cell_type": "code",
   "execution_count": 10,
   "metadata": {},
   "outputs": [
    {
     "data": {
      "text/plain": [
       "Acquisition sources (index, name):\n",
       "\t0 - ni_input_task_acq\n",
       "\n",
       "Generation sources (index, name):\n",
       "\tNone\n",
       "\n",
       "Additional check events:\n",
       "\tNone\n",
       "\n",
       "Trigger settings:\n",
       "\t- duration [sec]      None\n",
       "\t- source              None\n",
       "\t- channel             None\n",
       "\t- level               None\n",
       "\t- presamples          None\n",
       "\t- type                None"
      ]
     },
     "execution_count": 10,
     "metadata": {},
     "output_type": "execute_result"
    }
   ],
   "source": [
    "ldaq = LDAQ.Core(acquisitions=[acq_ni], visualization=vis)\n",
    "#ldaq = LDAQ.Core(acquisitions=[acq_ni])\n",
    "ldaq"
   ]
  },
  {
   "cell_type": "code",
   "execution_count": null,
   "metadata": {},
   "outputs": [
    {
     "name": "stdout",
     "output_type": "stream",
     "text": [
      "closing app\n",
      "closing app\n"
     ]
    }
   ],
   "source": [
    "# Set the trigger on the input task\n",
    "#ldaq.set_trigger(source=acquisition_name, channel=\"ch1\", level=0.02, duration=1.0, presamples=1)\n",
    "\n",
    "ldaq.run(1.0)"
   ]
  },
  {
   "cell_type": "markdown",
   "metadata": {},
   "source": [
    "## Extract data from measurement dict"
   ]
  },
  {
   "cell_type": "code",
   "execution_count": 26,
   "metadata": {},
   "outputs": [
    {
     "data": {
      "text/plain": [
       "{'time': array([0.00000e+00, 1.00000e-06, 2.00000e-06, ..., 9.99997e-01,\n",
       "        9.99998e-01, 9.99999e-01], shape=(1000000,)),\n",
       " 'channel_names': ['ch1', 'ch2', 'ch3', 'ch4'],\n",
       " 'data': array([[ 9.1022500e-03,  1.3801535e-02,  2.6652000e-05,  2.3537500e-03],\n",
       "        [ 2.2448000e-03,  6.8851100e-03,  1.4151460e-03, -3.9178000e-04],\n",
       "        [ 2.2448000e-03,  1.2418250e-02,  2.8036400e-03,  6.4720450e-03],\n",
       "        ...,\n",
       "        [ 4.9877800e-03,  6.8851100e-03,  2.6652000e-05,  9.8098500e-04],\n",
       "        [ 4.9877800e-03,  8.2683950e-03,  5.5806280e-03,  9.8098500e-04],\n",
       "        [ 4.9877800e-03,  6.8851100e-03,  1.4151460e-03,  9.8098500e-04]],\n",
       "       shape=(1000000, 4)),\n",
       " 'sample_rate': 1000000}"
      ]
     },
     "execution_count": 26,
     "metadata": {},
     "output_type": "execute_result"
    }
   ],
   "source": [
    "measurement = ldaq.get_measurement_dict()\n",
    "data = measurement[acquisition_name]\n",
    "data"
   ]
  },
  {
   "cell_type": "code",
   "execution_count": 27,
   "metadata": {},
   "outputs": [],
   "source": [
    "time = data[\"time\"]\n",
    "fs = data[\"sample_rate\"]\n",
    "raw_data = data[\"data\"]\n",
    "\n",
    "\n",
    "ch1_data = raw_data[:, data[\"channel_names\"].index(\"ch1\")]\n",
    "ch2_data = raw_data[:, data[\"channel_names\"].index(\"ch2\")]\n",
    "ch3_data = raw_data[:, data[\"channel_names\"].index(\"ch3\")]\n",
    "ch4_data = raw_data[:, data[\"channel_names\"].index(\"ch4\")]"
   ]
  },
  {
   "cell_type": "code",
   "execution_count": 28,
   "metadata": {},
   "outputs": [
    {
     "data": {
      "application/vnd.jupyter.widget-view+json": {
       "model_id": "6002adadc48c4f35af8c8207aa5bcb38",
       "version_major": 2,
       "version_minor": 0
      },
      "image/png": "[encoded data removed]",
      "text/html": [
       "\n",
       "            <div style=\"display: inline-block;\">\n",
       "                <div class=\"jupyter-widgets widget-label\" style=\"text-align: center;\">\n",
       "                    Figure 1\n",
       "                </div>\n",
       "                <img src='data:image/png;base64,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' width=640.0/>\n",
       "            </div>\n",
       "        "
      ],
      "text/plain": [
       "Canvas(toolbar=Toolbar(toolitems=[('Home', 'Reset original view', 'home', 'home'), ('Back', 'Back to previous …"
      ]
     },
     "metadata": {},
     "output_type": "display_data"
    }
   ],
   "source": [
    "%matplotlib widget\n",
    "plt.clf()\n",
    "plt.plot(time, ch1_data, time, ch2_data, time, ch3_data, time, ch4_data)\n",
    "plt.show()"
   ]
  }
 ],
 "metadata": {
  "kernelspec": {
   "display_name": ".venv",
   "language": "python",
   "name": "python3"
  },
  "language_info": {
   "codemirror_mode": {
    "name": "ipython",
    "version": 3
   },
   "file_extension": ".py",
   "mimetype": "text/x-python",
   "name": "python",
   "nbconvert_exporter": "python",
   "pygments_lexer": "ipython3",
   "version": "3.13.2"
  }
 },
 "nbformat": 4,
 "nbformat_minor": 2
}
